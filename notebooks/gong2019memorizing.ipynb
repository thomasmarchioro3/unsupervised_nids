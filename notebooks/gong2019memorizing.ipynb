{
 "cells": [
  {
   "cell_type": "code",
   "execution_count": null,
   "metadata": {},
   "outputs": [],
   "source": [
    "import os\n",
    "\n",
    "os.chdir('..')"
   ]
  },
  {
   "cell_type": "code",
   "execution_count": null,
   "metadata": {},
   "outputs": [],
   "source": [
    "import numpy as np\n",
    "import pandas as pd\n",
    "import matplotlib.pyplot as plt\n",
    "\n",
    "import torch\n",
    "\n",
    "import tqdm\n",
    "\n",
    "from sklearn.model_selection import train_test_split\n",
    "from sklearn.preprocessing import OneHotEncoder, StandardScaler\n",
    "from sklearn.metrics import average_precision_score\n",
    "\n",
    "from torch.utils.data import DataLoader\n",
    "\n",
    "from src.nids.memae import MemAE, EntropyLoss\n",
    "\n",
    "from data.utils import load_kddcup99"
   ]
  },
  {
   "cell_type": "markdown",
   "metadata": {},
   "source": [
    "## Hyperparameters\n",
    "\n",
    "Hyperparameters were set as reported in the original paper, where possible, or copied from the authors' [repository](https://github.com/donggong1/memae-anomaly-detection). However, it should be noted that the code for experiments on KDD99 was not reported."
   ]
  },
  {
   "cell_type": "code",
   "execution_count": null,
   "metadata": {},
   "outputs": [],
   "source": [
    "# Experimental setup\n",
    "\n",
    "random_seed = 42\n",
    "test_size = 0.5\n",
    "\n",
    "# Hyperparameters\n",
    "\n",
    "# From the code\n",
    "num_epochs = 100\n",
    "\n",
    "# From the original paper: [...] trained using the optimizer Adam [17] with a learning rate of 0.0001\n",
    "learning_rate = 1e-4\n",
    "# learning_rate = 1e-3\n",
    "\n",
    "# Not reported in the original paper. In the video dataset, the authors used a batch size of 14, which is small for IDS datasets\n",
    "batch_size = 16\n",
    "\n",
    "mem_dim = 50\n",
    "\n",
    "# From the original paper \"In practice, alpha = 0.0002 leads to desirable results in all our experiments\"\n",
    "alpha = 0.0002\n",
    "\n",
    "# From the code\n",
    "shrink_thres = 0.0025\n",
    "\n",
    "# NOTE: Results should be averaged across 20 runs\n"
   ]
  },
  {
   "cell_type": "code",
   "execution_count": null,
   "metadata": {},
   "outputs": [],
   "source": [
    "device = 'cuda' if torch.cuda.is_available() else 'cpu'"
   ]
  },
  {
   "cell_type": "code",
   "execution_count": null,
   "metadata": {},
   "outputs": [],
   "source": [
    "np.random.seed(random_seed)\n",
    "torch.manual_seed(random_seed);"
   ]
  },
  {
   "cell_type": "markdown",
   "metadata": {},
   "source": [
    "## KDD99\n",
    "\n",
    "### Subsample selection\n",
    "\n",
    "In the original paper, the authors report:\n",
    "\"Following the settings in [48], 80% of the samples labeled as “attack” in the original dataset are treated as normal samples.\"\n",
    "This statement does not make a lot of sense: treating \"attack\" samples as normal sample would lead an anomaly detection model to learn wrong behavior.\n",
    "\n",
    "The referenced paper is:\n",
    "[48]: <i>Bo Zong, Qi Song, Martin Renqiang Min, Wei Cheng, Cristian Lumezanu, Daeki Cho, and Haifeng Chen. Deep autoencoding gaussian mixture model for unsupervised anomaly detection. In International Conference on Learning Representations, 2018.</i>\n",
    "\n",
    "This paper reports: \"We keep all the data samples labeled as “normal” and randomly draw samples labeled as “attack” so that the ratio between “normal” and “attack” is 4 : 1. In this way, we obtain a dataset with anomaly ratio 0.2\" This seems more sensible.\n",
    "\n",
    "\n"
   ]
  },
  {
   "cell_type": "code",
   "execution_count": null,
   "metadata": {},
   "outputs": [],
   "source": [
    "# TODO: Use percent10=False to load the full dataset\n",
    "X, y = load_kddcup99(percent10=True)\n",
    "\n",
    "idx_normal = np.argwhere(y == 0).T[0]\n",
    "idx_anomaly = np.argwhere(y == 1).T[0]\n",
    "\n",
    "idx_anomaly_keep = np.random.choice(idx_anomaly, size=int(0.25 * idx_normal.shape[0]), replace=False)\n",
    "\n",
    "idx = np.concatenate((idx_normal, idx_anomaly_keep))\n",
    "idx = np.sort(idx)\n",
    "\n",
    "X = X.iloc[idx].reset_index(drop=True)\n",
    "y = y.iloc[idx].reset_index(drop=True)\n",
    "\n",
    "y.value_counts()"
   ]
  },
  {
   "cell_type": "code",
   "execution_count": null,
   "metadata": {},
   "outputs": [],
   "source": [
    "y = y.to_numpy()"
   ]
  },
  {
   "cell_type": "code",
   "execution_count": null,
   "metadata": {},
   "outputs": [],
   "source": [
    "categorical_cols = ['protocol_type', 'service', 'flag']"
   ]
  },
  {
   "cell_type": "code",
   "execution_count": null,
   "metadata": {},
   "outputs": [],
   "source": [
    "## NOTE: The authors may have used this (wrong) preprocessing procedure\n",
    "\n",
    "# X_cat = X[categorical_cols].to_numpy()\n",
    "# X_num = X.drop(columns=categorical_cols).to_numpy()\n",
    "\n",
    "# encoder = OneHotEncoder(handle_unknown='ignore', sparse_output=False)\n",
    "# X_cat = encoder.fit_transform(X_cat)\n",
    "\n",
    "# X = np.concatenate((X_cat, X_num), axis=1)\n",
    "\n",
    "# print(X.shape)"
   ]
  },
  {
   "cell_type": "code",
   "execution_count": null,
   "metadata": {},
   "outputs": [],
   "source": [
    "X_train, X_test, y_train, y_test = train_test_split(X, y, test_size=0.2, random_state=random_seed)\n",
    "\n",
    "# NOTE: This is how correct preprocessing should be implemented, but old papers often use the wrong one (above)\n",
    "\n",
    "encoder = OneHotEncoder(handle_unknown='ignore', sparse_output=False)\n",
    "\n",
    "X_train_cat = X_train[categorical_cols].to_numpy()\n",
    "X_train_num = X_train.drop(columns=categorical_cols).to_numpy()\n",
    "X_train_cat = encoder.fit_transform(X_train_cat)\n",
    "\n",
    "\n",
    "X_test_cat = X_test[categorical_cols].to_numpy()\n",
    "X_test_num = X_test.drop(columns=categorical_cols).to_numpy()\n",
    "X_test_cat = encoder.transform(X_test_cat)\n",
    "\n",
    "X_train = np.concatenate((X_train_cat, X_train_num), axis=1).astype(np.float32)\n",
    "X_test = np.concatenate((X_test_cat, X_test_num), axis=1).astype(np.float32)\n",
    "\n",
    "scaler = StandardScaler()\n",
    "X_train = scaler.fit_transform(X_train)\n",
    "X_test = scaler.transform(X_test)\n",
    "\n",
    "print(X_train.shape)"
   ]
  },
  {
   "cell_type": "code",
   "execution_count": null,
   "metadata": {},
   "outputs": [],
   "source": [
    "train_loader = DataLoader(torch.from_numpy(X_train), batch_size=batch_size, shuffle=True)\n",
    "x_test_tensor = torch.from_numpy(X_test).to(device)"
   ]
  },
  {
   "cell_type": "code",
   "execution_count": null,
   "metadata": {},
   "outputs": [],
   "source": [
    "model = MemAE(\n",
    "    num_features=X_train.shape[1],\n",
    "    mem_dim=mem_dim,\n",
    "    shrink_thres=shrink_thres\n",
    ")\n",
    "\n",
    "model.to(device)\n",
    "\n",
    "optimizer = torch.optim.Adam(model.parameters(), lr=learning_rate)\n",
    "mse_loss = torch.nn.MSELoss()\n",
    "entropy_loss = EntropyLoss()\n",
    "criterion = lambda pred, x: mse_loss(pred['output'], x) + entropy_loss(pred['att'])"
   ]
  },
  {
   "cell_type": "code",
   "execution_count": null,
   "metadata": {},
   "outputs": [],
   "source": [
    "for epoch in range(num_epochs):\n",
    "\n",
    "\n",
    "    pbar = tqdm.tqdm(enumerate(train_loader), desc=f\"Epoch {epoch + 1}/{num_epochs}\")\n",
    "    running_loss = 0.0\n",
    "    for i, x_batch in pbar:\n",
    "        x_batch = x_batch.to(device)\n",
    "\n",
    "        optimizer.zero_grad()\n",
    "        x_hat = model(x_batch)\n",
    "        loss = criterion(x_hat, x_batch)\n",
    "        loss.backward()\n",
    "        optimizer.step()\n",
    "\n",
    "        running_loss += loss.item()\n",
    "        pbar.set_postfix(loss=running_loss / (i + 1))\n",
    "\n",
    "    with torch.no_grad():\n",
    "        scores = model.evaluate_errors(x_test_tensor).cpu().numpy()\n",
    "        average_precision = average_precision_score(y_test, scores)\n",
    "\n",
    "    print(f\"Epoch {epoch + 1}/{num_epochs} - Average precision: {average_precision:.4f}\")"
   ]
  },
  {
   "cell_type": "code",
   "execution_count": null,
   "metadata": {},
   "outputs": [],
   "source": []
  }
 ],
 "metadata": {
  "kernelspec": {
   "display_name": "pytorch",
   "language": "python",
   "name": "python3"
  },
  "language_info": {
   "codemirror_mode": {
    "name": "ipython",
    "version": 3
   },
   "file_extension": ".py",
   "mimetype": "text/x-python",
   "name": "python",
   "nbconvert_exporter": "python",
   "pygments_lexer": "ipython3",
   "version": "3.12.8"
  }
 },
 "nbformat": 4,
 "nbformat_minor": 2
}
